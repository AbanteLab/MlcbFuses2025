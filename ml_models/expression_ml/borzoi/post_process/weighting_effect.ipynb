{
 "cells": [
  {
   "cell_type": "markdown",
   "id": "02cda0c6",
   "metadata": {},
   "source": [
    "Once we have all weighted logSED values we need to plot a histogram of logSED and weighted logSED for both tissues."
   ]
  },
  {
   "cell_type": "code",
   "execution_count": 1,
   "id": "da3613a2",
   "metadata": {},
   "outputs": [
    {
     "name": "stderr",
     "output_type": "stream",
     "text": [
      "/pool01/conda/envs/enrollhd/lib/python3.10/site-packages/pandas/core/computation/expressions.py:21: UserWarning: Pandas requires version '2.8.4' or newer of 'numexpr' (version '2.7.3' currently installed).\n",
      "  from pandas.core.computation.check import NUMEXPR_INSTALLED\n"
     ]
    }
   ],
   "source": [
    "import pandas as pd\n",
    "import numpy as np\n",
    "import polars as pl\n",
    "import re\n",
    "import ast\n",
    "import os \n",
    "from scipy.stats import norm\n",
    "import matplotlib.pyplot as plt\n",
    "\n",
    "# Set working directory\n",
    "os.chdir(\"/pool01/projects/abante_lab/\")\n",
    "\n",
    "fig_path = \"genomic_llms/borzoi/proc_results/figures/\"\n",
    "\n",
    "weighted_sed_path = \"genomic_llms/borzoi/proc_results/weighted_logSED/\""
   ]
  },
  {
   "cell_type": "code",
   "execution_count": 2,
   "id": "aec1907c",
   "metadata": {},
   "outputs": [
    {
     "data": {
      "text/html": [
       "<div><style>\n",
       ".dataframe > thead > tr,\n",
       ".dataframe > tbody > tr {\n",
       "  text-align: right;\n",
       "  white-space: pre-wrap;\n",
       "}\n",
       "</style>\n",
       "<small>shape: (5, 9)</small><table border=\"1\" class=\"dataframe\"><thead><tr><th>snp</th><th>gene</th><th>alt_allele</th><th>tissue</th><th>logSED</th><th>chrom</th><th>pos</th><th>genehancer_id</th><th>weighted_logSED</th></tr><tr><td>str</td><td>str</td><td>str</td><td>str</td><td>f64</td><td>i64</td><td>i64</td><td>str</td><td>f64</td></tr></thead><tbody><tr><td>&quot;21_33758366_C_G&quot;</td><td>&quot;ENSG00000170262&quot;</td><td>&quot;G&quot;</td><td>&quot;RNA-seq: Putamen&quot;</td><td>-0.000042</td><td>21</td><td>32386057</td><td>&quot;GH21F032386&quot;</td><td>-1.4165e-8</td></tr><tr><td>&quot;21_33758366_C_G&quot;</td><td>&quot;ENSG00000170262&quot;</td><td>&quot;G&quot;</td><td>&quot;RNA-seq: Caudate&quot;</td><td>0.000055</td><td>21</td><td>32386057</td><td>&quot;GH21F032386&quot;</td><td>1.8581e-8</td></tr><tr><td>&quot;21_33758366_C_G&quot;</td><td>&quot;ENSG00000232623&quot;</td><td>&quot;G&quot;</td><td>&quot;RNA-seq: Putamen&quot;</td><td>-0.000236</td><td>21</td><td>32386057</td><td>&quot;GH21F032386&quot;</td><td>-7.9922e-8</td></tr><tr><td>&quot;21_33758366_C_G&quot;</td><td>&quot;ENSG00000232623&quot;</td><td>&quot;G&quot;</td><td>&quot;RNA-seq: Caudate&quot;</td><td>-0.000016</td><td>21</td><td>32386057</td><td>&quot;GH21F032386&quot;</td><td>-5.5107e-9</td></tr><tr><td>&quot;21_33758366_C_G&quot;</td><td>&quot;ENSG00000142207&quot;</td><td>&quot;G&quot;</td><td>&quot;RNA-seq: Putamen&quot;</td><td>-0.000137</td><td>21</td><td>32386057</td><td>&quot;GH21F032386&quot;</td><td>-4.6384e-8</td></tr></tbody></table></div>"
      ],
      "text/plain": [
       "shape: (5, 9)\n",
       "┌────────────┬────────────┬────────────┬────────────┬───┬───────┬──────────┬───────────┬───────────┐\n",
       "│ snp        ┆ gene       ┆ alt_allele ┆ tissue     ┆ … ┆ chrom ┆ pos      ┆ genehance ┆ weighted_ │\n",
       "│ ---        ┆ ---        ┆ ---        ┆ ---        ┆   ┆ ---   ┆ ---      ┆ r_id      ┆ logSED    │\n",
       "│ str        ┆ str        ┆ str        ┆ str        ┆   ┆ i64   ┆ i64      ┆ ---       ┆ ---       │\n",
       "│            ┆            ┆            ┆            ┆   ┆       ┆          ┆ str       ┆ f64       │\n",
       "╞════════════╪════════════╪════════════╪════════════╪═══╪═══════╪══════════╪═══════════╪═══════════╡\n",
       "│ 21_3375836 ┆ ENSG000001 ┆ G          ┆ RNA-seq:   ┆ … ┆ 21    ┆ 32386057 ┆ GH21F0323 ┆ -1.4165e- │\n",
       "│ 6_C_G      ┆ 70262      ┆            ┆ Putamen    ┆   ┆       ┆          ┆ 86        ┆ 8         │\n",
       "│ 21_3375836 ┆ ENSG000001 ┆ G          ┆ RNA-seq:   ┆ … ┆ 21    ┆ 32386057 ┆ GH21F0323 ┆ 1.8581e-8 │\n",
       "│ 6_C_G      ┆ 70262      ┆            ┆ Caudate    ┆   ┆       ┆          ┆ 86        ┆           │\n",
       "│ 21_3375836 ┆ ENSG000002 ┆ G          ┆ RNA-seq:   ┆ … ┆ 21    ┆ 32386057 ┆ GH21F0323 ┆ -7.9922e- │\n",
       "│ 6_C_G      ┆ 32623      ┆            ┆ Putamen    ┆   ┆       ┆          ┆ 86        ┆ 8         │\n",
       "│ 21_3375836 ┆ ENSG000002 ┆ G          ┆ RNA-seq:   ┆ … ┆ 21    ┆ 32386057 ┆ GH21F0323 ┆ -5.5107e- │\n",
       "│ 6_C_G      ┆ 32623      ┆            ┆ Caudate    ┆   ┆       ┆          ┆ 86        ┆ 9         │\n",
       "│ 21_3375836 ┆ ENSG000001 ┆ G          ┆ RNA-seq:   ┆ … ┆ 21    ┆ 32386057 ┆ GH21F0323 ┆ -4.6384e- │\n",
       "│ 6_C_G      ┆ 42207      ┆            ┆ Putamen    ┆   ┆       ┆          ┆ 86        ┆ 8         │\n",
       "└────────────┴────────────┴────────────┴────────────┴───┴───────┴──────────┴───────────┴───────────┘"
      ]
     },
     "execution_count": 2,
     "metadata": {},
     "output_type": "execute_result"
    }
   ],
   "source": [
    "# Read concatenated weighted preds\n",
    "preds = pl.concat(\n",
    "    [pl.read_csv(os.path.join(weighted_sed_path, f), separator = '\\t') \n",
    "     for f in os.listdir(weighted_sed_path) if f.endswith(\".tsv.gz\")]\n",
    ")\n",
    "preds.head()"
   ]
  },
  {
   "cell_type": "code",
   "execution_count": 8,
   "id": "1246ee88",
   "metadata": {},
   "outputs": [
    {
     "data": {
      "text/plain": [
       "22"
      ]
     },
     "execution_count": 8,
     "metadata": {},
     "output_type": "execute_result"
    }
   ],
   "source": [
    "len(preds['chrom'].unique())"
   ]
  },
  {
   "cell_type": "code",
   "execution_count": 3,
   "id": "070f959c",
   "metadata": {},
   "outputs": [
    {
     "data": {
      "image/png": "[encoded data removed]",
      "text/plain": [
       "<Figure size 1000x500 with 2 Axes>"
      ]
     },
     "metadata": {},
     "output_type": "display_data"
    }
   ],
   "source": [
    "# Filter the dataframe\n",
    "# Filter using Polars\n",
    "preds1 = preds.filter(preds[\"tissue\"] == \"RNA-seq: Putamen\")\n",
    "preds2 = preds.filter(preds[\"tissue\"] == \"RNA-seq: Caudate\")\n",
    "\n",
    "# Convert to pandas for plotting\n",
    "df1 = preds1.to_pandas()\n",
    "df2 = preds2.to_pandas()\n",
    "\n",
    "# Plotting\n",
    "fig, axes = plt.subplots(1, 2, figsize=(10, 5), sharey=True)\n",
    "\n",
    "# RNA-seq: Putamen\n",
    "axes[0].hist(df1[\"logSED\"], bins=30, color='grey', alpha=0.6, label='logSED')\n",
    "axes[0].hist(df1[\"weighted_logSED\"], bins=30, color='black', label='weighted logSED')\n",
    "axes[0].set_title(\"Putamen\")\n",
    "axes[0].set_xlabel('logSED')\n",
    "axes[0].set_ylabel('Frequency')\n",
    "axes[0].set_yscale('log')\n",
    "axes[0].legend(loc='upper right')\n",
    "\n",
    "# RNA-seq: Caudate\n",
    "axes[1].hist(df2[\"logSED\"], bins=30, color='grey', alpha=0.6, label='logSED')\n",
    "axes[1].hist(df2[\"weighted_logSED\"], bins=30, color='black', label='weighted logSED')\n",
    "axes[1].set_title(\"Caudate\")\n",
    "axes[1].set_xlabel('logSED')\n",
    "axes[1].set_yscale('log')\n",
    "axes[1].legend(loc='upper right')\n",
    "\n",
    "plt.tight_layout()\n",
    "# plt.savefig(f\"{fig_path}weighted_logSED.pdf\", dpi=300)\n",
    "plt.show()"
   ]
  },
  {
   "cell_type": "code",
   "execution_count": 11,
   "id": "d2143c38",
   "metadata": {},
   "outputs": [
    {
     "data": {
      "text/html": [
       "<div>\n",
       "<style scoped>\n",
       "    .dataframe tbody tr th:only-of-type {\n",
       "        vertical-align: middle;\n",
       "    }\n",
       "\n",
       "    .dataframe tbody tr th {\n",
       "        vertical-align: top;\n",
       "    }\n",
       "\n",
       "    .dataframe thead th {\n",
       "        text-align: right;\n",
       "    }\n",
       "</style>\n",
       "<table border=\"1\" class=\"dataframe\">\n",
       "  <thead>\n",
       "    <tr style=\"text-align: right;\">\n",
       "      <th></th>\n",
       "      <th>snp</th>\n",
       "      <th>gene</th>\n",
       "      <th>alt_allele</th>\n",
       "      <th>tissue</th>\n",
       "      <th>logSED</th>\n",
       "      <th>chrom</th>\n",
       "      <th>pos</th>\n",
       "      <th>genehancer_id</th>\n",
       "      <th>weighted_logSED</th>\n",
       "    </tr>\n",
       "  </thead>\n",
       "  <tbody>\n",
       "    <tr>\n",
       "      <th>1530602</th>\n",
       "      <td>19_50651485_A_C</td>\n",
       "      <td>ENSG00000287001</td>\n",
       "      <td>C</td>\n",
       "      <td>RNA-seq: Putamen</td>\n",
       "      <td>1.802</td>\n",
       "      <td>19</td>\n",
       "      <td>50148228</td>\n",
       "      <td>GH19F050147</td>\n",
       "      <td>0.002271</td>\n",
       "    </tr>\n",
       "    <tr>\n",
       "      <th>1934366</th>\n",
       "      <td>1_157069597_G_A</td>\n",
       "      <td>ENSG00000253831</td>\n",
       "      <td>A</td>\n",
       "      <td>RNA-seq: Putamen</td>\n",
       "      <td>1.137</td>\n",
       "      <td>1</td>\n",
       "      <td>157099805</td>\n",
       "      <td>Promoter_ETV3L</td>\n",
       "      <td>1.137000</td>\n",
       "    </tr>\n",
       "  </tbody>\n",
       "</table>\n",
       "</div>"
      ],
      "text/plain": [
       "                     snp             gene alt_allele            tissue  \\\n",
       "1530602  19_50651485_A_C  ENSG00000287001          C  RNA-seq: Putamen   \n",
       "1934366  1_157069597_G_A  ENSG00000253831          A  RNA-seq: Putamen   \n",
       "\n",
       "         logSED  chrom        pos   genehancer_id  weighted_logSED  \n",
       "1530602   1.802     19   50148228     GH19F050147         0.002271  \n",
       "1934366   1.137      1  157099805  Promoter_ETV3L         1.137000  "
      ]
     },
     "execution_count": 11,
     "metadata": {},
     "output_type": "execute_result"
    }
   ],
   "source": [
    "# Extract largest logSED values gene\n",
    "def extract_large_logSED(df, tissue, threshold=1.0):\n",
    "    \"\"\"Extract rows where |logSED| > threshold for a given tissue.\"\"\"\n",
    "    filtered_df = df[(df[\"tissue\"] == tissue) & (df[\"logSED\"] > threshold)]\n",
    "    return filtered_df\n",
    "\n",
    "# Extract top 10 largest logSED values for each tissue\n",
    "top_putamen = extract_large_logSED(preds.to_pandas(), \"RNA-seq: Putamen\")\n",
    "top_caudate = extract_large_logSED(preds.to_pandas(), \"RNA-seq: Caudate\")\n",
    "\n",
    "top_putamen"
   ]
  },
  {
   "cell_type": "code",
   "execution_count": 16,
   "id": "6ced2f39",
   "metadata": {},
   "outputs": [
    {
     "data": {
      "text/html": [
       "<div>\n",
       "<style scoped>\n",
       "    .dataframe tbody tr th:only-of-type {\n",
       "        vertical-align: middle;\n",
       "    }\n",
       "\n",
       "    .dataframe tbody tr th {\n",
       "        vertical-align: top;\n",
       "    }\n",
       "\n",
       "    .dataframe thead th {\n",
       "        text-align: right;\n",
       "    }\n",
       "</style>\n",
       "<table border=\"1\" class=\"dataframe\">\n",
       "  <thead>\n",
       "    <tr style=\"text-align: right;\">\n",
       "      <th></th>\n",
       "      <th>snp</th>\n",
       "      <th>gene</th>\n",
       "      <th>alt_allele</th>\n",
       "      <th>tissue</th>\n",
       "      <th>logSED</th>\n",
       "      <th>chrom</th>\n",
       "      <th>pos</th>\n",
       "      <th>genehancer_id</th>\n",
       "      <th>weighted_logSED</th>\n",
       "    </tr>\n",
       "  </thead>\n",
       "  <tbody>\n",
       "    <tr>\n",
       "      <th>1032669</th>\n",
       "      <td>5_60241142_G_A</td>\n",
       "      <td>ENSG00000164182</td>\n",
       "      <td>A</td>\n",
       "      <td>RNA-seq: Caudate</td>\n",
       "      <td>1.116</td>\n",
       "      <td>5</td>\n",
       "      <td>60945315</td>\n",
       "      <td>GH05F060943</td>\n",
       "      <td>0.000938</td>\n",
       "    </tr>\n",
       "    <tr>\n",
       "      <th>1530603</th>\n",
       "      <td>19_50651485_A_C</td>\n",
       "      <td>ENSG00000287001</td>\n",
       "      <td>C</td>\n",
       "      <td>RNA-seq: Caudate</td>\n",
       "      <td>2.210</td>\n",
       "      <td>19</td>\n",
       "      <td>50148228</td>\n",
       "      <td>GH19F050147</td>\n",
       "      <td>0.002785</td>\n",
       "    </tr>\n",
       "    <tr>\n",
       "      <th>1934367</th>\n",
       "      <td>1_157069597_G_A</td>\n",
       "      <td>ENSG00000253831</td>\n",
       "      <td>A</td>\n",
       "      <td>RNA-seq: Caudate</td>\n",
       "      <td>1.020</td>\n",
       "      <td>1</td>\n",
       "      <td>157099805</td>\n",
       "      <td>Promoter_ETV3L</td>\n",
       "      <td>1.020000</td>\n",
       "    </tr>\n",
       "  </tbody>\n",
       "</table>\n",
       "</div>"
      ],
      "text/plain": [
       "                     snp             gene alt_allele            tissue  \\\n",
       "1032669   5_60241142_G_A  ENSG00000164182          A  RNA-seq: Caudate   \n",
       "1530603  19_50651485_A_C  ENSG00000287001          C  RNA-seq: Caudate   \n",
       "1934367  1_157069597_G_A  ENSG00000253831          A  RNA-seq: Caudate   \n",
       "\n",
       "         logSED  chrom        pos   genehancer_id  weighted_logSED  \n",
       "1032669   1.116      5   60945315     GH05F060943         0.000938  \n",
       "1530603   2.210     19   50148228     GH19F050147         0.002785  \n",
       "1934367   1.020      1  157099805  Promoter_ETV3L         1.020000  "
      ]
     },
     "execution_count": 16,
     "metadata": {},
     "output_type": "execute_result"
    }
   ],
   "source": [
    "top_caudate"
   ]
  },
  {
   "cell_type": "code",
   "execution_count": null,
   "id": "28584d3e",
   "metadata": {},
   "outputs": [],
   "source": [
    "# Manually looking for relevant loci \n",
    "large_loci = pd.DataFrame(columns=['snp', 'rsid', 'gene', 'gwas', 'tissue'])\n",
    "\n",
    "large_loci.loc[0] = ['19_50651485_A_C', 'rs1809186999', 'ENSG00000287001', False, 'RNA-seq: Putamen']\n",
    "large_loci.loc[1] = ['19_50651485_A_C', 'rs1809186999', 'ENSG00000287001', False, 'RNA-seq: Caudate']\n",
    "large_loci.loc[2] = ['1_157069597_G_A', 'NA', 'ENSG00000253831', False, 'RNA-seq: Putamen']\n",
    "large_loci.loc[3] = ['1_157069597_G_A', 'NA', 'ENSG00000253831', False, 'RNA-seq: Caudate']\n",
    "large_loci.loc[4] = ['5_60241142_G_A', 'NA', 'ENSG00000164182', False, 'RNA-seq: Caudate']\n"
   ]
  }
 ],
 "metadata": {
  "kernelspec": {
   "display_name": "Python 3",
   "language": "python",
   "name": "python3"
  },
  "language_info": {
   "codemirror_mode": {
    "name": "ipython",
    "version": 3
   },
   "file_extension": ".py",
   "mimetype": "text/x-python",
   "name": "python",
   "nbconvert_exporter": "python",
   "pygments_lexer": "ipython3",
   "version": "3.10.13"
  }
 },
 "nbformat": 4,
 "nbformat_minor": 5
}
