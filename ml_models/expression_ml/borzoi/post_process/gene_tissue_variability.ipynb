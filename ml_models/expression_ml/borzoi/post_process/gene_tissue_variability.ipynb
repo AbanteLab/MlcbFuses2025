{
 "cells": [
  {
   "cell_type": "markdown",
   "id": "4d42b88c",
   "metadata": {},
   "source": [
    "Concatenate all predictions \n",
    "Separate by tissue and extract 2k most variable genes\n",
    "Filter to only contain predictions of the most variable genes\n",
    "Save filtered by tissue and chromosome "
   ]
  },
  {
   "cell_type": "code",
   "execution_count": 1,
   "id": "f65ddc71",
   "metadata": {},
   "outputs": [
    {
     "name": "stderr",
     "output_type": "stream",
     "text": [
      "/pool01/conda/envs/enrollhd/lib/python3.10/site-packages/pandas/core/computation/expressions.py:21: UserWarning: Pandas requires version '2.8.4' or newer of 'numexpr' (version '2.7.3' currently installed).\n",
      "  from pandas.core.computation.check import NUMEXPR_INSTALLED\n"
     ]
    }
   ],
   "source": [
    "import pandas as pd\n",
    "import numpy as np\n",
    "import polars as pl\n",
    "import re\n",
    "import ast\n",
    "import os \n",
    "from scipy.stats import norm\n",
    "import matplotlib.pyplot as plt\n",
    "\n",
    "# Set working directory\n",
    "os.chdir(\"/pool01/projects/abante_lab/\")\n",
    "\n",
    "weighted_sed_path = \"genomic_llms/borzoi/proc_results/weighted_logSED/\"\n",
    "fig_path = \"genomic_llms/borzoi/proc_results/figures/\"\n",
    "\n",
    "putamen_path = f\"{weighted_sed_path}putamen/\"\n",
    "caudate_path = f\"{weighted_sed_path}caudate/\""
   ]
  },
  {
   "cell_type": "code",
   "execution_count": 2,
   "id": "27b3114d",
   "metadata": {},
   "outputs": [],
   "source": [
    "# Read concatenated weighted preds\n",
    "preds = pl.concat(\n",
    "    [pl.read_csv(os.path.join(weighted_sed_path, f), separator = '\\t') \n",
    "     for f in os.listdir(weighted_sed_path) if f.endswith(\".tsv.gz\")]\n",
    ")\n",
    "putamen_preds = preds.filter(preds[\"tissue\"] == \"RNA-seq: Putamen\")\n",
    "caudate_preds = preds.filter(preds[\"tissue\"] == \"RNA-seq: Caudate\")"
   ]
  },
  {
   "cell_type": "code",
   "execution_count": 4,
   "id": "3d08a68e",
   "metadata": {},
   "outputs": [
    {
     "data": {
      "text/html": [
       "<div><style>\n",
       ".dataframe > thead > tr,\n",
       ".dataframe > tbody > tr {\n",
       "  text-align: right;\n",
       "  white-space: pre-wrap;\n",
       "}\n",
       "</style>\n",
       "<small>shape: (1_972_239, 9)</small><table border=\"1\" class=\"dataframe\"><thead><tr><th>snp</th><th>gene</th><th>alt_allele</th><th>tissue</th><th>logSED</th><th>chrom</th><th>pos</th><th>genehancer_id</th><th>weighted_logSED</th></tr><tr><td>str</td><td>str</td><td>str</td><td>str</td><td>f64</td><td>i64</td><td>i64</td><td>str</td><td>f64</td></tr></thead><tbody><tr><td>&quot;21_33758366_C_G&quot;</td><td>&quot;ENSG00000170262&quot;</td><td>&quot;G&quot;</td><td>&quot;RNA-seq: Putamen&quot;</td><td>-0.000042</td><td>21</td><td>32386057</td><td>&quot;GH21F032386&quot;</td><td>-1.4165e-8</td></tr><tr><td>&quot;21_33758366_C_G&quot;</td><td>&quot;ENSG00000232623&quot;</td><td>&quot;G&quot;</td><td>&quot;RNA-seq: Putamen&quot;</td><td>-0.000236</td><td>21</td><td>32386057</td><td>&quot;GH21F032386&quot;</td><td>-7.9922e-8</td></tr><tr><td>&quot;21_33758366_C_G&quot;</td><td>&quot;ENSG00000142207&quot;</td><td>&quot;G&quot;</td><td>&quot;RNA-seq: Putamen&quot;</td><td>-0.000137</td><td>21</td><td>32386057</td><td>&quot;GH21F032386&quot;</td><td>-4.6384e-8</td></tr><tr><td>&quot;21_33758366_C_G&quot;</td><td>&quot;ENSG00000256073&quot;</td><td>&quot;G&quot;</td><td>&quot;RNA-seq: Putamen&quot;</td><td>-0.000469</td><td>21</td><td>32386057</td><td>&quot;GH21F032386&quot;</td><td>-1.5863e-7</td></tr><tr><td>&quot;21_33758366_C_G&quot;</td><td>&quot;ENSG00000166979&quot;</td><td>&quot;G&quot;</td><td>&quot;RNA-seq: Putamen&quot;</td><td>0.0000748</td><td>21</td><td>32386057</td><td>&quot;GH21F032386&quot;</td><td>2.5288e-8</td></tr><tr><td>&hellip;</td><td>&hellip;</td><td>&hellip;</td><td>&hellip;</td><td>&hellip;</td><td>&hellip;</td><td>&hellip;</td><td>&hellip;</td><td>&hellip;</td></tr><tr><td>&quot;22_23280836_G_A&quot;</td><td>&quot;ENSG00000254030&quot;</td><td>&quot;A&quot;</td><td>&quot;RNA-seq: Putamen&quot;</td><td>0.0004568</td><td>22</td><td>22938670</td><td>&quot;GH22F022937&quot;</td><td>2.4927e-20</td></tr><tr><td>&quot;22_23280836_G_A&quot;</td><td>&quot;ENSG00000211682&quot;</td><td>&quot;A&quot;</td><td>&quot;RNA-seq: Putamen&quot;</td><td>0.0007625</td><td>22</td><td>22938670</td><td>&quot;GH22F022937&quot;</td><td>4.1609e-20</td></tr><tr><td>&quot;22_23280836_G_A&quot;</td><td>&quot;ENSG00000222037&quot;</td><td>&quot;A&quot;</td><td>&quot;RNA-seq: Putamen&quot;</td><td>0.001893</td><td>22</td><td>22938670</td><td>&quot;GH22F022937&quot;</td><td>1.0330e-19</td></tr><tr><td>&quot;22_23280836_G_A&quot;</td><td>&quot;ENSG00000211684&quot;</td><td>&quot;A&quot;</td><td>&quot;RNA-seq: Putamen&quot;</td><td>0.001852</td><td>22</td><td>22938670</td><td>&quot;GH22F022937&quot;</td><td>1.0106e-19</td></tr><tr><td>&quot;22_23280836_G_A&quot;</td><td>&quot;ENSG00000211685&quot;</td><td>&quot;A&quot;</td><td>&quot;RNA-seq: Putamen&quot;</td><td>0.002</td><td>22</td><td>22938670</td><td>&quot;GH22F022937&quot;</td><td>1.0914e-19</td></tr></tbody></table></div>"
      ],
      "text/plain": [
       "shape: (1_972_239, 9)\n",
       "┌────────────┬────────────┬────────────┬────────────┬───┬───────┬──────────┬───────────┬───────────┐\n",
       "│ snp        ┆ gene       ┆ alt_allele ┆ tissue     ┆ … ┆ chrom ┆ pos      ┆ genehance ┆ weighted_ │\n",
       "│ ---        ┆ ---        ┆ ---        ┆ ---        ┆   ┆ ---   ┆ ---      ┆ r_id      ┆ logSED    │\n",
       "│ str        ┆ str        ┆ str        ┆ str        ┆   ┆ i64   ┆ i64      ┆ ---       ┆ ---       │\n",
       "│            ┆            ┆            ┆            ┆   ┆       ┆          ┆ str       ┆ f64       │\n",
       "╞════════════╪════════════╪════════════╪════════════╪═══╪═══════╪══════════╪═══════════╪═══════════╡\n",
       "│ 21_3375836 ┆ ENSG000001 ┆ G          ┆ RNA-seq:   ┆ … ┆ 21    ┆ 32386057 ┆ GH21F0323 ┆ -1.4165e- │\n",
       "│ 6_C_G      ┆ 70262      ┆            ┆ Putamen    ┆   ┆       ┆          ┆ 86        ┆ 8         │\n",
       "│ 21_3375836 ┆ ENSG000002 ┆ G          ┆ RNA-seq:   ┆ … ┆ 21    ┆ 32386057 ┆ GH21F0323 ┆ -7.9922e- │\n",
       "│ 6_C_G      ┆ 32623      ┆            ┆ Putamen    ┆   ┆       ┆          ┆ 86        ┆ 8         │\n",
       "│ 21_3375836 ┆ ENSG000001 ┆ G          ┆ RNA-seq:   ┆ … ┆ 21    ┆ 32386057 ┆ GH21F0323 ┆ -4.6384e- │\n",
       "│ 6_C_G      ┆ 42207      ┆            ┆ Putamen    ┆   ┆       ┆          ┆ 86        ┆ 8         │\n",
       "│ 21_3375836 ┆ ENSG000002 ┆ G          ┆ RNA-seq:   ┆ … ┆ 21    ┆ 32386057 ┆ GH21F0323 ┆ -1.5863e- │\n",
       "│ 6_C_G      ┆ 56073      ┆            ┆ Putamen    ┆   ┆       ┆          ┆ 86        ┆ 7         │\n",
       "│ 21_3375836 ┆ ENSG000001 ┆ G          ┆ RNA-seq:   ┆ … ┆ 21    ┆ 32386057 ┆ GH21F0323 ┆ 2.5288e-8 │\n",
       "│ 6_C_G      ┆ 66979      ┆            ┆ Putamen    ┆   ┆       ┆          ┆ 86        ┆           │\n",
       "│ …          ┆ …          ┆ …          ┆ …          ┆ … ┆ …     ┆ …        ┆ …         ┆ …         │\n",
       "│ 22_2328083 ┆ ENSG000002 ┆ A          ┆ RNA-seq:   ┆ … ┆ 22    ┆ 22938670 ┆ GH22F0229 ┆ 2.4927e-2 │\n",
       "│ 6_G_A      ┆ 54030      ┆            ┆ Putamen    ┆   ┆       ┆          ┆ 37        ┆ 0         │\n",
       "│ 22_2328083 ┆ ENSG000002 ┆ A          ┆ RNA-seq:   ┆ … ┆ 22    ┆ 22938670 ┆ GH22F0229 ┆ 4.1609e-2 │\n",
       "│ 6_G_A      ┆ 11682      ┆            ┆ Putamen    ┆   ┆       ┆          ┆ 37        ┆ 0         │\n",
       "│ 22_2328083 ┆ ENSG000002 ┆ A          ┆ RNA-seq:   ┆ … ┆ 22    ┆ 22938670 ┆ GH22F0229 ┆ 1.0330e-1 │\n",
       "│ 6_G_A      ┆ 22037      ┆            ┆ Putamen    ┆   ┆       ┆          ┆ 37        ┆ 9         │\n",
       "│ 22_2328083 ┆ ENSG000002 ┆ A          ┆ RNA-seq:   ┆ … ┆ 22    ┆ 22938670 ┆ GH22F0229 ┆ 1.0106e-1 │\n",
       "│ 6_G_A      ┆ 11684      ┆            ┆ Putamen    ┆   ┆       ┆          ┆ 37        ┆ 9         │\n",
       "│ 22_2328083 ┆ ENSG000002 ┆ A          ┆ RNA-seq:   ┆ … ┆ 22    ┆ 22938670 ┆ GH22F0229 ┆ 1.0914e-1 │\n",
       "│ 6_G_A      ┆ 11685      ┆            ┆ Putamen    ┆   ┆       ┆          ┆ 37        ┆ 9         │\n",
       "└────────────┴────────────┴────────────┴────────────┴───┴───────┴──────────┴───────────┴───────────┘"
      ]
     },
     "execution_count": 4,
     "metadata": {},
     "output_type": "execute_result"
    }
   ],
   "source": [
    "putamen_preds"
   ]
  },
  {
   "cell_type": "code",
   "execution_count": 5,
   "id": "ba7e87c8",
   "metadata": {},
   "outputs": [],
   "source": [
    "# Group by gene and calculate variability\n",
    "putamen_variability = (\n",
    "    putamen_preds\n",
    "    .group_by(\"gene\")\n",
    "    .agg(pl.std(\"weighted_logSED\").alias(\"std_dev\"))\n",
    "    .filter(pl.col(\"std_dev\").is_not_null())\n",
    "    .sort(\"std_dev\", descending=True)\n",
    "    .head(2000)\n",
    ")\n",
    "putamen_genes = set(putamen_variability[\"gene\"].to_list())\n",
    "\n",
    "caudate_variability = (\n",
    "    caudate_preds\n",
    "    .group_by(\"gene\")\n",
    "    .agg(pl.std(\"weighted_logSED\").alias(\"std_dev\"))\n",
    "    .filter(pl.col(\"std_dev\").is_not_null())\n",
    "    .sort(\"std_dev\", descending=True)\n",
    "    .head(2000)\n",
    ")\n",
    "caudate_genes = set(caudate_variability[\"gene\"].to_list())"
   ]
  },
  {
   "cell_type": "code",
   "execution_count": 6,
   "id": "39104856",
   "metadata": {},
   "outputs": [
    {
     "data": {
      "text/html": [
       "<div><style>\n",
       ".dataframe > thead > tr,\n",
       ".dataframe > tbody > tr {\n",
       "  text-align: right;\n",
       "  white-space: pre-wrap;\n",
       "}\n",
       "</style>\n",
       "<small>shape: (336_184, 9)</small><table border=\"1\" class=\"dataframe\"><thead><tr><th>snp</th><th>gene</th><th>alt_allele</th><th>tissue</th><th>logSED</th><th>chrom</th><th>pos</th><th>genehancer_id</th><th>weighted_logSED</th></tr><tr><td>str</td><td>str</td><td>str</td><td>str</td><td>f64</td><td>i64</td><td>i64</td><td>str</td><td>f64</td></tr></thead><tbody><tr><td>&quot;21_36398684_T_C&quot;</td><td>&quot;ENSG00000159216&quot;</td><td>&quot;C&quot;</td><td>&quot;RNA-seq: Putamen&quot;</td><td>0.00354</td><td>21</td><td>35026387</td><td>&quot;GH21F035024&quot;</td><td>7.4067e-10</td></tr><tr><td>&quot;21_36398684_T_C&quot;</td><td>&quot;ENSG00000159216&quot;</td><td>&quot;C&quot;</td><td>&quot;RNA-seq: Caudate&quot;</td><td>0.00475</td><td>21</td><td>35026387</td><td>&quot;GH21F035024&quot;</td><td>9.9384e-10</td></tr><tr><td>&quot;21_27530760_C_T&quot;</td><td>&quot;ENSG00000273492&quot;</td><td>&quot;T&quot;</td><td>&quot;RNA-seq: Putamen&quot;</td><td>-0.001067</td><td>21</td><td>26158442</td><td>&quot;GH21F026157&quot;</td><td>-0.000001</td></tr><tr><td>&quot;21_27530760_C_T&quot;</td><td>&quot;ENSG00000273492&quot;</td><td>&quot;T&quot;</td><td>&quot;RNA-seq: Caudate&quot;</td><td>-0.0057</td><td>21</td><td>26158442</td><td>&quot;GH21F026157&quot;</td><td>-0.000008</td></tr><tr><td>&quot;21_36414027_T_C&quot;</td><td>&quot;ENSG00000159216&quot;</td><td>&quot;C&quot;</td><td>&quot;RNA-seq: Putamen&quot;</td><td>0.001674</td><td>21</td><td>35041730</td><td>&quot;GH21F035038&quot;</td><td>5.0696e-45</td></tr><tr><td>&hellip;</td><td>&hellip;</td><td>&hellip;</td><td>&hellip;</td><td>&hellip;</td><td>&hellip;</td><td>&hellip;</td><td>&hellip;</td><td>&hellip;</td></tr><tr><td>&quot;22_24146055_T_G&quot;</td><td>&quot;ENSG00000099953&quot;</td><td>&quot;G&quot;</td><td>&quot;RNA-seq: Caudate&quot;</td><td>0.0000492</td><td>22</td><td>23803868</td><td>&quot;GH22F023799&quot;</td><td>8.9908e-17</td></tr><tr><td>&quot;22_24094476_T_G&quot;</td><td>&quot;ENSG00000250479&quot;</td><td>&quot;G&quot;</td><td>&quot;RNA-seq: Putamen&quot;</td><td>-0.002739</td><td>22</td><td>23752289</td><td>&quot;GH22F023749&quot;</td><td>-0.000002</td></tr><tr><td>&quot;22_24094476_T_G&quot;</td><td>&quot;ENSG00000250479&quot;</td><td>&quot;G&quot;</td><td>&quot;RNA-seq: Caudate&quot;</td><td>-0.00131</td><td>22</td><td>23752289</td><td>&quot;GH22F023749&quot;</td><td>-0.000001</td></tr><tr><td>&quot;22_24094476_T_G&quot;</td><td>&quot;ENSG00000099953&quot;</td><td>&quot;G&quot;</td><td>&quot;RNA-seq: Putamen&quot;</td><td>-0.000202</td><td>22</td><td>23752289</td><td>&quot;GH22F023749&quot;</td><td>-1.6670e-7</td></tr><tr><td>&quot;22_24094476_T_G&quot;</td><td>&quot;ENSG00000099953&quot;</td><td>&quot;G&quot;</td><td>&quot;RNA-seq: Caudate&quot;</td><td>0.0002582</td><td>22</td><td>23752289</td><td>&quot;GH22F023749&quot;</td><td>2.1277e-7</td></tr></tbody></table></div>"
      ],
      "text/plain": [
       "shape: (336_184, 9)\n",
       "┌────────────┬────────────┬────────────┬────────────┬───┬───────┬──────────┬───────────┬───────────┐\n",
       "│ snp        ┆ gene       ┆ alt_allele ┆ tissue     ┆ … ┆ chrom ┆ pos      ┆ genehance ┆ weighted_ │\n",
       "│ ---        ┆ ---        ┆ ---        ┆ ---        ┆   ┆ ---   ┆ ---      ┆ r_id      ┆ logSED    │\n",
       "│ str        ┆ str        ┆ str        ┆ str        ┆   ┆ i64   ┆ i64      ┆ ---       ┆ ---       │\n",
       "│            ┆            ┆            ┆            ┆   ┆       ┆          ┆ str       ┆ f64       │\n",
       "╞════════════╪════════════╪════════════╪════════════╪═══╪═══════╪══════════╪═══════════╪═══════════╡\n",
       "│ 21_3639868 ┆ ENSG000001 ┆ C          ┆ RNA-seq:   ┆ … ┆ 21    ┆ 35026387 ┆ GH21F0350 ┆ 7.4067e-1 │\n",
       "│ 4_T_C      ┆ 59216      ┆            ┆ Putamen    ┆   ┆       ┆          ┆ 24        ┆ 0         │\n",
       "│ 21_3639868 ┆ ENSG000001 ┆ C          ┆ RNA-seq:   ┆ … ┆ 21    ┆ 35026387 ┆ GH21F0350 ┆ 9.9384e-1 │\n",
       "│ 4_T_C      ┆ 59216      ┆            ┆ Caudate    ┆   ┆       ┆          ┆ 24        ┆ 0         │\n",
       "│ 21_2753076 ┆ ENSG000002 ┆ T          ┆ RNA-seq:   ┆ … ┆ 21    ┆ 26158442 ┆ GH21F0261 ┆ -0.000001 │\n",
       "│ 0_C_T      ┆ 73492      ┆            ┆ Putamen    ┆   ┆       ┆          ┆ 57        ┆           │\n",
       "│ 21_2753076 ┆ ENSG000002 ┆ T          ┆ RNA-seq:   ┆ … ┆ 21    ┆ 26158442 ┆ GH21F0261 ┆ -0.000008 │\n",
       "│ 0_C_T      ┆ 73492      ┆            ┆ Caudate    ┆   ┆       ┆          ┆ 57        ┆           │\n",
       "│ 21_3641402 ┆ ENSG000001 ┆ C          ┆ RNA-seq:   ┆ … ┆ 21    ┆ 35041730 ┆ GH21F0350 ┆ 5.0696e-4 │\n",
       "│ 7_T_C      ┆ 59216      ┆            ┆ Putamen    ┆   ┆       ┆          ┆ 38        ┆ 5         │\n",
       "│ …          ┆ …          ┆ …          ┆ …          ┆ … ┆ …     ┆ …        ┆ …         ┆ …         │\n",
       "│ 22_2414605 ┆ ENSG000000 ┆ G          ┆ RNA-seq:   ┆ … ┆ 22    ┆ 23803868 ┆ GH22F0237 ┆ 8.9908e-1 │\n",
       "│ 5_T_G      ┆ 99953      ┆            ┆ Caudate    ┆   ┆       ┆          ┆ 99        ┆ 7         │\n",
       "│ 22_2409447 ┆ ENSG000002 ┆ G          ┆ RNA-seq:   ┆ … ┆ 22    ┆ 23752289 ┆ GH22F0237 ┆ -0.000002 │\n",
       "│ 6_T_G      ┆ 50479      ┆            ┆ Putamen    ┆   ┆       ┆          ┆ 49        ┆           │\n",
       "│ 22_2409447 ┆ ENSG000002 ┆ G          ┆ RNA-seq:   ┆ … ┆ 22    ┆ 23752289 ┆ GH22F0237 ┆ -0.000001 │\n",
       "│ 6_T_G      ┆ 50479      ┆            ┆ Caudate    ┆   ┆       ┆          ┆ 49        ┆           │\n",
       "│ 22_2409447 ┆ ENSG000000 ┆ G          ┆ RNA-seq:   ┆ … ┆ 22    ┆ 23752289 ┆ GH22F0237 ┆ -1.6670e- │\n",
       "│ 6_T_G      ┆ 99953      ┆            ┆ Putamen    ┆   ┆       ┆          ┆ 49        ┆ 7         │\n",
       "│ 22_2409447 ┆ ENSG000000 ┆ G          ┆ RNA-seq:   ┆ … ┆ 22    ┆ 23752289 ┆ GH22F0237 ┆ 2.1277e-7 │\n",
       "│ 6_T_G      ┆ 99953      ┆            ┆ Caudate    ┆   ┆       ┆          ┆ 49        ┆           │\n",
       "└────────────┴────────────┴────────────┴────────────┴───┴───────┴──────────┴───────────┴───────────┘"
      ]
     },
     "execution_count": 6,
     "metadata": {},
     "output_type": "execute_result"
    }
   ],
   "source": [
    "# Filter preds to only contain the top 2000 variable genes\n",
    "filtered_preds = preds.filter(pl.col(\"gene\").is_in(putamen_genes | caudate_genes))\n",
    "filtered_preds"
   ]
  },
  {
   "cell_type": "code",
   "execution_count": 7,
   "id": "33c25569",
   "metadata": {},
   "outputs": [
    {
     "data": {
      "image/png": "[encoded data removed]",
      "text/plain": [
       "<Figure size 1000x500 with 2 Axes>"
      ]
     },
     "metadata": {},
     "output_type": "display_data"
    }
   ],
   "source": [
    "# Filter the dataframe\n",
    "# Filter using Polars\n",
    "preds1 = filtered_preds.filter(filtered_preds[\"tissue\"] == \"RNA-seq: Putamen\")\n",
    "preds2 = filtered_preds.filter(filtered_preds[\"tissue\"] == \"RNA-seq: Caudate\")\n",
    "\n",
    "# Convert to pandas for plotting\n",
    "df1 = preds1.to_pandas()\n",
    "df2 = preds2.to_pandas()\n",
    "\n",
    "# Plotting\n",
    "fig, axes = plt.subplots(1, 2, figsize=(10, 5), sharey=True)\n",
    "\n",
    "# RNA-seq: Putamen\n",
    "axes[0].hist(df1[\"logSED\"], bins=30, color='grey', alpha=0.6, label='logSED')\n",
    "axes[0].hist(df1[\"weighted_logSED\"], bins=30, color='black', label='weighted logSED')\n",
    "axes[0].set_title(\"Putamen\")\n",
    "axes[0].set_xlabel('logSED')\n",
    "axes[0].set_ylabel('Frequency')\n",
    "axes[0].set_yscale('log')\n",
    "axes[0].legend(loc='upper right')\n",
    "\n",
    "# RNA-seq: Caudate\n",
    "axes[1].hist(df2[\"logSED\"], bins=30, color='grey', alpha=0.6, label='logSED')\n",
    "axes[1].hist(df2[\"weighted_logSED\"], bins=30, color='black', label='weighted logSED')\n",
    "axes[1].set_title(\"Caudate\")\n",
    "axes[1].set_xlabel('logSED')\n",
    "axes[1].set_yscale('log')\n",
    "axes[1].legend(loc='upper right')\n",
    "\n",
    "plt.tight_layout()\n",
    "plt.savefig(f\"{fig_path}filtered_weighted_logSED.pdf\", dpi=300)\n",
    "plt.show()"
   ]
  },
  {
   "cell_type": "code",
   "execution_count": 8,
   "id": "e0f81a70",
   "metadata": {},
   "outputs": [],
   "source": [
    "# Save filtered preds by chromosome\n",
    "for tissue, tissue_path in {\"RNA-seq: Putamen\": putamen_path, \"RNA-seq: Caudate\": caudate_path}.items():\n",
    "    tissue_preds = filtered_preds.filter(pl.col(\"tissue\") == tissue)\n",
    "    for chrom in range(1,23):\n",
    "        chrom_preds = tissue_preds.filter(pl.col(\"chrom\") == chrom)\n",
    "        chrom_preds.write_csv(f\"{tissue_path}filtered_weighted_logSED_chr{chrom}.tsv\", separator='\\t')"
   ]
  },
  {
   "cell_type": "code",
   "execution_count": null,
   "id": "3948f213",
   "metadata": {},
   "outputs": [],
   "source": []
  }
 ],
 "metadata": {
  "kernelspec": {
   "display_name": "Python 3",
   "language": "python",
   "name": "python3"
  },
  "language_info": {
   "codemirror_mode": {
    "name": "ipython",
    "version": 3
   },
   "file_extension": ".py",
   "mimetype": "text/x-python",
   "name": "python",
   "nbconvert_exporter": "python",
   "pygments_lexer": "ipython3",
   "version": "3.10.13"
  }
 },
 "nbformat": 4,
 "nbformat_minor": 5
}
